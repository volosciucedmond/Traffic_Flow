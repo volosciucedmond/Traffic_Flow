{
  "nbformat": 4,
  "nbformat_minor": 0,
  "metadata": {
    "colab": {
      "provenance": []
    },
    "kernelspec": {
      "name": "python3",
      "display_name": "Python 3"
    },
    "language_info": {
      "name": "python"
    },
    "gpuClass": "standard"
  },
  "cells": [
    {
      "cell_type": "markdown",
      "source": [
        "# Problemă"
      ],
      "metadata": {
        "id": "d3gL5vg_qzBf"
      }
    },
    {
      "cell_type": "code",
      "execution_count": null,
      "metadata": {
        "colab": {
          "base_uri": "https://localhost:8080/",
          "height": 133
        },
        "id": "gHZP-9lrxwsz",
        "outputId": "0e9b178c-e3d1-4c7b-c331-7e36f817426b"
      },
      "outputs": [
        {
          "output_type": "display_data",
          "data": {
            "text/plain": [
              "<IPython.core.display.HTML object>"
            ],
            "text/html": [
              "<p style = \"font-size:300%; text-align:center; color:#679289\"> <b>Predicția traficului - Regresie liniară</b></p>\n"
            ]
          },
          "metadata": {}
        }
      ],
      "source": [
        "%%html\n",
        "<p style = \"font-size:300%; text-align:center; color:#679289\"> <b>Predicția traficului - Regresie liniară</b></p>\n"
      ]
    },
    {
      "cell_type": "markdown",
      "source": [
        "Data set preluat de pe: https://www.kaggle.com/datasets/fedesoriano/traffic-prediction-dataset"
      ],
      "metadata": {
        "id": "mW4a5xFQgGgs"
      }
    },
    {
      "cell_type": "markdown",
      "source": [
        "Aglomerația este în crestere în orașele din întreaga lume. Factorii care contribuie la aceasta includ creșterea populației urbane, infrastructura învechită, sincronizarea ineficientă a semafoarelor de trafic și lipsa de date în timp real.\n",
        "\n",
        "Impactul este semnificativ. Compania de analiza a datelor si a traficului INRIX estimeaza că congestia traficului i-a costat pe șoferii din SUA 305 miliarde de dolari în 2017 din cauza combustibilului irosit, timpului pierdut și costului crescut de transport al mărfurilor prin zonele aglomerate. Având în vedere limitările fizice și financiare privind construirea de drumuri suplimentare, orașele trebuie să utilizeze noi strategii și tehnologii pentru a îmbunătăți condițiile de trafic.\n",
        "\n",
        "Astfel conducerea unui oraș a colectat date pe parcursul a trei ani, tip de douăzeci și patru de ore pe zi, în patru intersecții. Se dorește modelarea relației dintre algomerația din trafic și diverși facotri, cum ar fi data și ora, intersecția și numărul de mașini.\n",
        "\n",
        "Setul de date conține următoarele variabile:\n",
        "\n",
        "\n",
        "*   Luna\n",
        "*   Ziua\n",
        "*   Anul\n",
        "*   Ora\n",
        "*   Minutul (= 0 adică oră fixă)\n",
        "*   Numărul intersecției\n",
        "*   Numărul mașinilor\n",
        "\n",
        "Creați, antrenați și testați un model pe baza setului de date de mai sus după care realizați diferite predicții.\n",
        "\n"
      ],
      "metadata": {
        "id": "Wcnk-PrDIJbT"
      }
    },
    {
      "cell_type": "markdown",
      "source": [
        "# Rezolvare"
      ],
      "metadata": {
        "id": "hYYRuGYNq7Yf"
      }
    },
    {
      "cell_type": "markdown",
      "source": [
        "Importăm librăriile necesare"
      ],
      "metadata": {
        "id": "FCPpzywp3jJd"
      }
    },
    {
      "cell_type": "code",
      "source": [
        "import numpy as np # algebra liniară\n",
        "from sklearn.model_selection import train_test_split # imparte un set de date in doua subseturi: unul pentru antrenare si unul pentru testare\n",
        "from sklearn.linear_model import LinearRegression # regresie liniara\n",
        "import pandas as pd # procesarea de date\n",
        "from google.colab import files # pentru încărcare sau descărcare de fișiere din calculator în Google Colab"
      ],
      "metadata": {
        "id": "_gU5FHAg0H7w"
      },
      "execution_count": null,
      "outputs": []
    },
    {
      "cell_type": "markdown",
      "source": [
        "Facem upload la setul de date"
      ],
      "metadata": {
        "id": "0wksktjP3ll0"
      }
    },
    {
      "cell_type": "code",
      "source": [
        "uploaded = files.upload()"
      ],
      "metadata": {
        "colab": {
          "base_uri": "https://localhost:8080/",
          "height": 74
        },
        "id": "CCTOWM4Fx9jV",
        "outputId": "1a7033b6-71dd-4707-cfa3-b9b8314bcc65"
      },
      "execution_count": null,
      "outputs": [
        {
          "output_type": "display_data",
          "data": {
            "text/plain": [
              "<IPython.core.display.HTML object>"
            ],
            "text/html": [
              "\n",
              "     <input type=\"file\" id=\"files-807d8802-9420-4cf0-8ffd-5b2c14249de3\" name=\"files[]\" multiple disabled\n",
              "        style=\"border:none\" />\n",
              "     <output id=\"result-807d8802-9420-4cf0-8ffd-5b2c14249de3\">\n",
              "      Upload widget is only available when the cell has been executed in the\n",
              "      current browser session. Please rerun this cell to enable.\n",
              "      </output>\n",
              "      <script>// Copyright 2017 Google LLC\n",
              "//\n",
              "// Licensed under the Apache License, Version 2.0 (the \"License\");\n",
              "// you may not use this file except in compliance with the License.\n",
              "// You may obtain a copy of the License at\n",
              "//\n",
              "//      http://www.apache.org/licenses/LICENSE-2.0\n",
              "//\n",
              "// Unless required by applicable law or agreed to in writing, software\n",
              "// distributed under the License is distributed on an \"AS IS\" BASIS,\n",
              "// WITHOUT WARRANTIES OR CONDITIONS OF ANY KIND, either express or implied.\n",
              "// See the License for the specific language governing permissions and\n",
              "// limitations under the License.\n",
              "\n",
              "/**\n",
              " * @fileoverview Helpers for google.colab Python module.\n",
              " */\n",
              "(function(scope) {\n",
              "function span(text, styleAttributes = {}) {\n",
              "  const element = document.createElement('span');\n",
              "  element.textContent = text;\n",
              "  for (const key of Object.keys(styleAttributes)) {\n",
              "    element.style[key] = styleAttributes[key];\n",
              "  }\n",
              "  return element;\n",
              "}\n",
              "\n",
              "// Max number of bytes which will be uploaded at a time.\n",
              "const MAX_PAYLOAD_SIZE = 100 * 1024;\n",
              "\n",
              "function _uploadFiles(inputId, outputId) {\n",
              "  const steps = uploadFilesStep(inputId, outputId);\n",
              "  const outputElement = document.getElementById(outputId);\n",
              "  // Cache steps on the outputElement to make it available for the next call\n",
              "  // to uploadFilesContinue from Python.\n",
              "  outputElement.steps = steps;\n",
              "\n",
              "  return _uploadFilesContinue(outputId);\n",
              "}\n",
              "\n",
              "// This is roughly an async generator (not supported in the browser yet),\n",
              "// where there are multiple asynchronous steps and the Python side is going\n",
              "// to poll for completion of each step.\n",
              "// This uses a Promise to block the python side on completion of each step,\n",
              "// then passes the result of the previous step as the input to the next step.\n",
              "function _uploadFilesContinue(outputId) {\n",
              "  const outputElement = document.getElementById(outputId);\n",
              "  const steps = outputElement.steps;\n",
              "\n",
              "  const next = steps.next(outputElement.lastPromiseValue);\n",
              "  return Promise.resolve(next.value.promise).then((value) => {\n",
              "    // Cache the last promise value to make it available to the next\n",
              "    // step of the generator.\n",
              "    outputElement.lastPromiseValue = value;\n",
              "    return next.value.response;\n",
              "  });\n",
              "}\n",
              "\n",
              "/**\n",
              " * Generator function which is called between each async step of the upload\n",
              " * process.\n",
              " * @param {string} inputId Element ID of the input file picker element.\n",
              " * @param {string} outputId Element ID of the output display.\n",
              " * @return {!Iterable<!Object>} Iterable of next steps.\n",
              " */\n",
              "function* uploadFilesStep(inputId, outputId) {\n",
              "  const inputElement = document.getElementById(inputId);\n",
              "  inputElement.disabled = false;\n",
              "\n",
              "  const outputElement = document.getElementById(outputId);\n",
              "  outputElement.innerHTML = '';\n",
              "\n",
              "  const pickedPromise = new Promise((resolve) => {\n",
              "    inputElement.addEventListener('change', (e) => {\n",
              "      resolve(e.target.files);\n",
              "    });\n",
              "  });\n",
              "\n",
              "  const cancel = document.createElement('button');\n",
              "  inputElement.parentElement.appendChild(cancel);\n",
              "  cancel.textContent = 'Cancel upload';\n",
              "  const cancelPromise = new Promise((resolve) => {\n",
              "    cancel.onclick = () => {\n",
              "      resolve(null);\n",
              "    };\n",
              "  });\n",
              "\n",
              "  // Wait for the user to pick the files.\n",
              "  const files = yield {\n",
              "    promise: Promise.race([pickedPromise, cancelPromise]),\n",
              "    response: {\n",
              "      action: 'starting',\n",
              "    }\n",
              "  };\n",
              "\n",
              "  cancel.remove();\n",
              "\n",
              "  // Disable the input element since further picks are not allowed.\n",
              "  inputElement.disabled = true;\n",
              "\n",
              "  if (!files) {\n",
              "    return {\n",
              "      response: {\n",
              "        action: 'complete',\n",
              "      }\n",
              "    };\n",
              "  }\n",
              "\n",
              "  for (const file of files) {\n",
              "    const li = document.createElement('li');\n",
              "    li.append(span(file.name, {fontWeight: 'bold'}));\n",
              "    li.append(span(\n",
              "        `(${file.type || 'n/a'}) - ${file.size} bytes, ` +\n",
              "        `last modified: ${\n",
              "            file.lastModifiedDate ? file.lastModifiedDate.toLocaleDateString() :\n",
              "                                    'n/a'} - `));\n",
              "    const percent = span('0% done');\n",
              "    li.appendChild(percent);\n",
              "\n",
              "    outputElement.appendChild(li);\n",
              "\n",
              "    const fileDataPromise = new Promise((resolve) => {\n",
              "      const reader = new FileReader();\n",
              "      reader.onload = (e) => {\n",
              "        resolve(e.target.result);\n",
              "      };\n",
              "      reader.readAsArrayBuffer(file);\n",
              "    });\n",
              "    // Wait for the data to be ready.\n",
              "    let fileData = yield {\n",
              "      promise: fileDataPromise,\n",
              "      response: {\n",
              "        action: 'continue',\n",
              "      }\n",
              "    };\n",
              "\n",
              "    // Use a chunked sending to avoid message size limits. See b/62115660.\n",
              "    let position = 0;\n",
              "    do {\n",
              "      const length = Math.min(fileData.byteLength - position, MAX_PAYLOAD_SIZE);\n",
              "      const chunk = new Uint8Array(fileData, position, length);\n",
              "      position += length;\n",
              "\n",
              "      const base64 = btoa(String.fromCharCode.apply(null, chunk));\n",
              "      yield {\n",
              "        response: {\n",
              "          action: 'append',\n",
              "          file: file.name,\n",
              "          data: base64,\n",
              "        },\n",
              "      };\n",
              "\n",
              "      let percentDone = fileData.byteLength === 0 ?\n",
              "          100 :\n",
              "          Math.round((position / fileData.byteLength) * 100);\n",
              "      percent.textContent = `${percentDone}% done`;\n",
              "\n",
              "    } while (position < fileData.byteLength);\n",
              "  }\n",
              "\n",
              "  // All done.\n",
              "  yield {\n",
              "    response: {\n",
              "      action: 'complete',\n",
              "    }\n",
              "  };\n",
              "}\n",
              "\n",
              "scope.google = scope.google || {};\n",
              "scope.google.colab = scope.google.colab || {};\n",
              "scope.google.colab._files = {\n",
              "  _uploadFiles,\n",
              "  _uploadFilesContinue,\n",
              "};\n",
              "})(self);\n",
              "</script> "
            ]
          },
          "metadata": {}
        },
        {
          "output_type": "stream",
          "name": "stdout",
          "text": [
            "Saving traffic.csv to traffic.csv\n"
          ]
        }
      ]
    },
    {
      "cell_type": "markdown",
      "source": [
        "Citim si afișăm informații despre setul de date"
      ],
      "metadata": {
        "id": "FaSlvH4N3sSH"
      }
    },
    {
      "cell_type": "code",
      "source": [
        "import io # oferă instrumente pentru manipularea intrării și ieșrii de date în și din aplciație\n",
        "# df = pd.read_csv(io.BytesIO(uploaded['traffic.csv'])) # citirea setului de date\n",
        "df = pd.read_csv(\"drive/My Drive/traffic.csv\") # uplaod de pe Google Drive\n",
        "df.info() # oferă informații despre setul de date\n",
        "df.describe() # descrierea setului de date\n",
        "\n"
      ],
      "metadata": {
        "id": "wkCl-P4Wx_4k",
        "colab": {
          "base_uri": "https://localhost:8080/",
          "height": 631
        },
        "outputId": "0e135f86-e532-4557-ef3e-e3801cc6036b"
      },
      "execution_count": null,
      "outputs": [
        {
          "output_type": "stream",
          "name": "stdout",
          "text": [
            "<class 'pandas.core.frame.DataFrame'>\n",
            "RangeIndex: 48120 entries, 0 to 48119\n",
            "Data columns (total 8 columns):\n",
            " #   Column    Non-Null Count  Dtype\n",
            "---  ------    --------------  -----\n",
            " 0   Month     48120 non-null  int64\n",
            " 1   Day       48120 non-null  int64\n",
            " 2   Year      48120 non-null  int64\n",
            " 3   Hour      48120 non-null  int64\n",
            " 4   Minute    48120 non-null  int64\n",
            " 5   Junction  48120 non-null  int64\n",
            " 6   Vehicles  48120 non-null  int64\n",
            " 7   ID        48120 non-null  int64\n",
            "dtypes: int64(8)\n",
            "memory usage: 2.9 MB\n"
          ]
        },
        {
          "output_type": "execute_result",
          "data": {
            "text/plain": [
              "              Month           Day          Year          Hour   Minute  \\\n",
              "count  48120.000000  48120.000000  48120.000000  48120.000000  48120.0   \n",
              "mean       5.884289     15.700748   2016.269825     11.492519      0.0   \n",
              "std        3.569872      8.784073      0.616093      6.921065      0.0   \n",
              "min        1.000000      1.000000   2015.000000      0.000000      0.0   \n",
              "25%        3.000000      8.000000   2016.000000      5.000000      0.0   \n",
              "50%        5.000000     16.000000   2016.000000     11.000000      0.0   \n",
              "75%        9.000000     23.000000   2017.000000     17.000000      0.0   \n",
              "max       12.000000     31.000000   2017.000000     23.000000      0.0   \n",
              "\n",
              "           Junction      Vehicles            ID  \n",
              "count  48120.000000  48120.000000  4.812000e+04  \n",
              "mean       2.180549     22.791334  2.016330e+10  \n",
              "std        0.966955     20.750063  5.944854e+06  \n",
              "min        1.000000      1.000000  2.015110e+10  \n",
              "25%        1.000000      9.000000  2.016042e+10  \n",
              "50%        2.000000     15.000000  2.016093e+10  \n",
              "75%        3.000000     29.000000  2.017023e+10  \n",
              "max        4.000000    180.000000  2.017063e+10  "
            ],
            "text/html": [
              "\n",
              "  <div id=\"df-027c1f21-d6f9-4d46-b428-c19e1671028f\">\n",
              "    <div class=\"colab-df-container\">\n",
              "      <div>\n",
              "<style scoped>\n",
              "    .dataframe tbody tr th:only-of-type {\n",
              "        vertical-align: middle;\n",
              "    }\n",
              "\n",
              "    .dataframe tbody tr th {\n",
              "        vertical-align: top;\n",
              "    }\n",
              "\n",
              "    .dataframe thead th {\n",
              "        text-align: right;\n",
              "    }\n",
              "</style>\n",
              "<table border=\"1\" class=\"dataframe\">\n",
              "  <thead>\n",
              "    <tr style=\"text-align: right;\">\n",
              "      <th></th>\n",
              "      <th>Month</th>\n",
              "      <th>Day</th>\n",
              "      <th>Year</th>\n",
              "      <th>Hour</th>\n",
              "      <th>Minute</th>\n",
              "      <th>Junction</th>\n",
              "      <th>Vehicles</th>\n",
              "      <th>ID</th>\n",
              "    </tr>\n",
              "  </thead>\n",
              "  <tbody>\n",
              "    <tr>\n",
              "      <th>count</th>\n",
              "      <td>48120.000000</td>\n",
              "      <td>48120.000000</td>\n",
              "      <td>48120.000000</td>\n",
              "      <td>48120.000000</td>\n",
              "      <td>48120.0</td>\n",
              "      <td>48120.000000</td>\n",
              "      <td>48120.000000</td>\n",
              "      <td>4.812000e+04</td>\n",
              "    </tr>\n",
              "    <tr>\n",
              "      <th>mean</th>\n",
              "      <td>5.884289</td>\n",
              "      <td>15.700748</td>\n",
              "      <td>2016.269825</td>\n",
              "      <td>11.492519</td>\n",
              "      <td>0.0</td>\n",
              "      <td>2.180549</td>\n",
              "      <td>22.791334</td>\n",
              "      <td>2.016330e+10</td>\n",
              "    </tr>\n",
              "    <tr>\n",
              "      <th>std</th>\n",
              "      <td>3.569872</td>\n",
              "      <td>8.784073</td>\n",
              "      <td>0.616093</td>\n",
              "      <td>6.921065</td>\n",
              "      <td>0.0</td>\n",
              "      <td>0.966955</td>\n",
              "      <td>20.750063</td>\n",
              "      <td>5.944854e+06</td>\n",
              "    </tr>\n",
              "    <tr>\n",
              "      <th>min</th>\n",
              "      <td>1.000000</td>\n",
              "      <td>1.000000</td>\n",
              "      <td>2015.000000</td>\n",
              "      <td>0.000000</td>\n",
              "      <td>0.0</td>\n",
              "      <td>1.000000</td>\n",
              "      <td>1.000000</td>\n",
              "      <td>2.015110e+10</td>\n",
              "    </tr>\n",
              "    <tr>\n",
              "      <th>25%</th>\n",
              "      <td>3.000000</td>\n",
              "      <td>8.000000</td>\n",
              "      <td>2016.000000</td>\n",
              "      <td>5.000000</td>\n",
              "      <td>0.0</td>\n",
              "      <td>1.000000</td>\n",
              "      <td>9.000000</td>\n",
              "      <td>2.016042e+10</td>\n",
              "    </tr>\n",
              "    <tr>\n",
              "      <th>50%</th>\n",
              "      <td>5.000000</td>\n",
              "      <td>16.000000</td>\n",
              "      <td>2016.000000</td>\n",
              "      <td>11.000000</td>\n",
              "      <td>0.0</td>\n",
              "      <td>2.000000</td>\n",
              "      <td>15.000000</td>\n",
              "      <td>2.016093e+10</td>\n",
              "    </tr>\n",
              "    <tr>\n",
              "      <th>75%</th>\n",
              "      <td>9.000000</td>\n",
              "      <td>23.000000</td>\n",
              "      <td>2017.000000</td>\n",
              "      <td>17.000000</td>\n",
              "      <td>0.0</td>\n",
              "      <td>3.000000</td>\n",
              "      <td>29.000000</td>\n",
              "      <td>2.017023e+10</td>\n",
              "    </tr>\n",
              "    <tr>\n",
              "      <th>max</th>\n",
              "      <td>12.000000</td>\n",
              "      <td>31.000000</td>\n",
              "      <td>2017.000000</td>\n",
              "      <td>23.000000</td>\n",
              "      <td>0.0</td>\n",
              "      <td>4.000000</td>\n",
              "      <td>180.000000</td>\n",
              "      <td>2.017063e+10</td>\n",
              "    </tr>\n",
              "  </tbody>\n",
              "</table>\n",
              "</div>\n",
              "      <button class=\"colab-df-convert\" onclick=\"convertToInteractive('df-027c1f21-d6f9-4d46-b428-c19e1671028f')\"\n",
              "              title=\"Convert this dataframe to an interactive table.\"\n",
              "              style=\"display:none;\">\n",
              "        \n",
              "  <svg xmlns=\"http://www.w3.org/2000/svg\" height=\"24px\"viewBox=\"0 0 24 24\"\n",
              "       width=\"24px\">\n",
              "    <path d=\"M0 0h24v24H0V0z\" fill=\"none\"/>\n",
              "    <path d=\"M18.56 5.44l.94 2.06.94-2.06 2.06-.94-2.06-.94-.94-2.06-.94 2.06-2.06.94zm-11 1L8.5 8.5l.94-2.06 2.06-.94-2.06-.94L8.5 2.5l-.94 2.06-2.06.94zm10 10l.94 2.06.94-2.06 2.06-.94-2.06-.94-.94-2.06-.94 2.06-2.06.94z\"/><path d=\"M17.41 7.96l-1.37-1.37c-.4-.4-.92-.59-1.43-.59-.52 0-1.04.2-1.43.59L10.3 9.45l-7.72 7.72c-.78.78-.78 2.05 0 2.83L4 21.41c.39.39.9.59 1.41.59.51 0 1.02-.2 1.41-.59l7.78-7.78 2.81-2.81c.8-.78.8-2.07 0-2.86zM5.41 20L4 18.59l7.72-7.72 1.47 1.35L5.41 20z\"/>\n",
              "  </svg>\n",
              "      </button>\n",
              "      \n",
              "  <style>\n",
              "    .colab-df-container {\n",
              "      display:flex;\n",
              "      flex-wrap:wrap;\n",
              "      gap: 12px;\n",
              "    }\n",
              "\n",
              "    .colab-df-convert {\n",
              "      background-color: #E8F0FE;\n",
              "      border: none;\n",
              "      border-radius: 50%;\n",
              "      cursor: pointer;\n",
              "      display: none;\n",
              "      fill: #1967D2;\n",
              "      height: 32px;\n",
              "      padding: 0 0 0 0;\n",
              "      width: 32px;\n",
              "    }\n",
              "\n",
              "    .colab-df-convert:hover {\n",
              "      background-color: #E2EBFA;\n",
              "      box-shadow: 0px 1px 2px rgba(60, 64, 67, 0.3), 0px 1px 3px 1px rgba(60, 64, 67, 0.15);\n",
              "      fill: #174EA6;\n",
              "    }\n",
              "\n",
              "    [theme=dark] .colab-df-convert {\n",
              "      background-color: #3B4455;\n",
              "      fill: #D2E3FC;\n",
              "    }\n",
              "\n",
              "    [theme=dark] .colab-df-convert:hover {\n",
              "      background-color: #434B5C;\n",
              "      box-shadow: 0px 1px 3px 1px rgba(0, 0, 0, 0.15);\n",
              "      filter: drop-shadow(0px 1px 2px rgba(0, 0, 0, 0.3));\n",
              "      fill: #FFFFFF;\n",
              "    }\n",
              "  </style>\n",
              "\n",
              "      <script>\n",
              "        const buttonEl =\n",
              "          document.querySelector('#df-027c1f21-d6f9-4d46-b428-c19e1671028f button.colab-df-convert');\n",
              "        buttonEl.style.display =\n",
              "          google.colab.kernel.accessAllowed ? 'block' : 'none';\n",
              "\n",
              "        async function convertToInteractive(key) {\n",
              "          const element = document.querySelector('#df-027c1f21-d6f9-4d46-b428-c19e1671028f');\n",
              "          const dataTable =\n",
              "            await google.colab.kernel.invokeFunction('convertToInteractive',\n",
              "                                                     [key], {});\n",
              "          if (!dataTable) return;\n",
              "\n",
              "          const docLinkHtml = 'Like what you see? Visit the ' +\n",
              "            '<a target=\"_blank\" href=https://colab.research.google.com/notebooks/data_table.ipynb>data table notebook</a>'\n",
              "            + ' to learn more about interactive tables.';\n",
              "          element.innerHTML = '';\n",
              "          dataTable['output_type'] = 'display_data';\n",
              "          await google.colab.output.renderOutput(dataTable, element);\n",
              "          const docLink = document.createElement('div');\n",
              "          docLink.innerHTML = docLinkHtml;\n",
              "          element.appendChild(docLink);\n",
              "        }\n",
              "      </script>\n",
              "    </div>\n",
              "  </div>\n",
              "  "
            ]
          },
          "metadata": {},
          "execution_count": 2
        }
      ]
    },
    {
      "cell_type": "markdown",
      "source": [
        "Vom impărți setul de date în variabile independente și variabile dependente"
      ],
      "metadata": {
        "id": "f1WGd0aCeHsQ"
      }
    },
    {
      "cell_type": "code",
      "source": [
        "X = df[['Month', 'Day', 'Year', 'Hour', 'Minute', 'Junction']] # independentă\n",
        "y = df['Vehicles'] # dependentă"
      ],
      "metadata": {
        "id": "wgRbTUEeyYsW"
      },
      "execution_count": null,
      "outputs": []
    },
    {
      "cell_type": "markdown",
      "source": [
        "Acum vom antrena și testa. Astfel, alocăm 80% din setul de date de mai sus pentru antrenare, iar restul de 20% pentru testare."
      ],
      "metadata": {
        "id": "zU-6TfVy4ZA9"
      }
    },
    {
      "cell_type": "code",
      "source": [
        "X_train, X_test, y_train, y_test = train_test_split(X, y, test_size=0.4, random_state=56)\n",
        "# train_test_split imparte setul de date în date de antrenare și date de testare\n",
        "# test_size reprezintă mărimea setului de date de testare\n",
        "# random_state setează aleatorietatea"
      ],
      "metadata": {
        "id": "CHo_dh1S4OU4"
      },
      "execution_count": null,
      "outputs": []
    },
    {
      "cell_type": "markdown",
      "source": [
        "Afișăm o parte din datele selectate pentru antrenare"
      ],
      "metadata": {
        "id": "9UrI-SwZ4pJk"
      }
    },
    {
      "cell_type": "code",
      "source": [
        "print(X_train)"
      ],
      "metadata": {
        "colab": {
          "base_uri": "https://localhost:8080/"
        },
        "id": "K_QC1hET2Tfw",
        "outputId": "196e295a-789c-49f4-d027-cf15c48d263e"
      },
      "execution_count": null,
      "outputs": [
        {
          "output_type": "stream",
          "name": "stdout",
          "text": [
            "       Month  Day  Year  Hour  Minute  Junction\n",
            "18135      3   27  2016    15       0         2\n",
            "21586      8   18  2016    10       0         2\n",
            "13721      5   25  2017    17       0         1\n",
            "37944     10   31  2016     0       0         3\n",
            "26385      3    6  2017     9       0         2\n",
            "...      ...  ...   ...   ...     ...       ...\n",
            "25835      2   11  2017    11       0         2\n",
            "46498      4   24  2017    10       0         4\n",
            "3264       3   16  2016     0       0         1\n",
            "33167      4   14  2016    23       0         3\n",
            "35300      7   12  2016    20       0         3\n",
            "\n",
            "[28872 rows x 6 columns]\n"
          ]
        }
      ]
    },
    {
      "cell_type": "markdown",
      "source": [
        "Afișăm o parte din datele selectate pentru testare"
      ],
      "metadata": {
        "id": "bOydwN4z4u0U"
      }
    },
    {
      "cell_type": "code",
      "source": [
        "print(X_test)"
      ],
      "metadata": {
        "colab": {
          "base_uri": "https://localhost:8080/"
        },
        "id": "WGpfD2Hr2eF4",
        "outputId": "2944df21-1874-449b-f0d4-5c9514f5b543"
      },
      "execution_count": null,
      "outputs": [
        {
          "output_type": "stream",
          "name": "stdout",
          "text": [
            "       Month  Day  Year  Hour  Minute  Junction\n",
            "30013     12    5  2015    13       0         3\n",
            "43518      6   20  2017     6       0         3\n",
            "38451     11   21  2016     3       0         3\n",
            "31944      2   24  2016     0       0         3\n",
            "24489     12   17  2016     9       0         2\n",
            "...      ...  ...   ...   ...     ...       ...\n",
            "38241     11   12  2016     9       0         3\n",
            "28689      6   10  2017     9       0         2\n",
            "3014       3    5  2016    14       0         1\n",
            "42396      5    4  2017    12       0         3\n",
            "18901      4   28  2016    13       0         2\n",
            "\n",
            "[19248 rows x 6 columns]\n"
          ]
        }
      ]
    },
    {
      "cell_type": "markdown",
      "source": [
        "Se aplică regresia liniară pe setul de date"
      ],
      "metadata": {
        "id": "eWWcstyG4wf2"
      }
    },
    {
      "cell_type": "code",
      "source": [
        "model = LinearRegression()\n"
      ],
      "metadata": {
        "id": "P5jp7jIe4Q98"
      },
      "execution_count": null,
      "outputs": []
    },
    {
      "cell_type": "markdown",
      "source": [
        "Funcția fit este folosită pentru finalizarea procesului de antrenare"
      ],
      "metadata": {
        "id": "EKoxmx_O44FM"
      }
    },
    {
      "cell_type": "code",
      "source": [
        "model.fit(X_train, y_train)\n"
      ],
      "metadata": {
        "colab": {
          "base_uri": "https://localhost:8080/"
        },
        "id": "Bg06NfgJ4UKS",
        "outputId": "69dc6e12-7324-40b2-eaca-b094f9fca864"
      },
      "execution_count": null,
      "outputs": [
        {
          "output_type": "execute_result",
          "data": {
            "text/plain": [
              "LinearRegression()"
            ]
          },
          "metadata": {},
          "execution_count": 17
        }
      ]
    },
    {
      "cell_type": "markdown",
      "source": [
        "Apelăm funcția predict"
      ],
      "metadata": {
        "id": "CAYslC-n5AvV"
      }
    },
    {
      "cell_type": "code",
      "source": [
        "y_pred = model.predict(X_test)\n",
        "print(y_pred)"
      ],
      "metadata": {
        "colab": {
          "base_uri": "https://localhost:8080/"
        },
        "id": "23J0khu02z37",
        "outputId": "3124a67e-48bb-458e-a02a-abba4fe60f6a"
      },
      "execution_count": null,
      "outputs": [
        {
          "output_type": "stream",
          "name": "stdout",
          "text": [
            "[26.43265538 14.84587493 17.57373298 ... 29.37423486 -2.36198458\n",
            " 16.68254653]\n"
          ]
        }
      ]
    },
    {
      "cell_type": "markdown",
      "source": [
        "Vom utiliza modelul pentru a face predicții pe setul de date de test"
      ],
      "metadata": {
        "id": "UMugeOLC5aSG"
      }
    },
    {
      "cell_type": "code",
      "source": [
        "# Use the model to make predictions on the test data\n",
        "predictions = model.predict(X_test)\n"
      ],
      "metadata": {
        "id": "_x2uxPFr4V02"
      },
      "execution_count": null,
      "outputs": []
    },
    {
      "cell_type": "markdown",
      "source": [
        "Evaluăm performanța modelului"
      ],
      "metadata": {
        "id": "q4wSW5Yb5fDj"
      }
    },
    {
      "cell_type": "code",
      "source": [
        "# Evaluate the model's performance\n",
        "print(model.score(X_test, y_test))\n"
      ],
      "metadata": {
        "id": "5Gq_xMN84X6j",
        "colab": {
          "base_uri": "https://localhost:8080/"
        },
        "outputId": "45f9f2e7-a332-47cd-8d52-a9150d82c2d0"
      },
      "execution_count": null,
      "outputs": [
        {
          "output_type": "stream",
          "name": "stdout",
          "text": [
            "0.5767118146296739\n"
          ]
        }
      ]
    },
    {
      "cell_type": "markdown",
      "source": [
        "Vom face predicții pe un set de date introdus de către noi"
      ],
      "metadata": {
        "id": "RlQER1s_5ilt"
      }
    },
    {
      "cell_type": "code",
      "source": [
        "# Get the input from the user\n",
        "input_string = input(\"Enter the month, day, year, hour, minute, and junction: \")\n",
        "\n",
        "# Split the input string into a list of values\n",
        "values = input_string.split()\n",
        "\n",
        "# Convert the values to integers\n",
        "day = int(values[0])\n",
        "month = int(values[1])\n",
        "year = int(values[2])\n",
        "hour = int(values[3])\n",
        "minute = int(values[4])\n",
        "junction = int(values[5])\n",
        "\n",
        "\n",
        "print(model.predict([[month, day, year, hour, minute, junction]]))"
      ],
      "metadata": {
        "colab": {
          "base_uri": "https://localhost:8080/"
        },
        "id": "-yKsAMsb29YY",
        "outputId": "83715e94-d65a-4a91-c492-3554b9fc1d09"
      },
      "execution_count": null,
      "outputs": [
        {
          "output_type": "stream",
          "name": "stdout",
          "text": [
            "Enter the month, day, year, hour, minute, and junction: 12 22 2022 12 0 2\n",
            "[143.15992265]\n"
          ]
        },
        {
          "output_type": "stream",
          "name": "stderr",
          "text": [
            "/usr/local/lib/python3.8/dist-packages/sklearn/base.py:450: UserWarning: X does not have valid feature names, but LinearRegression was fitted with feature names\n",
            "  warnings.warn(\n"
          ]
        }
      ]
    }
  ]
}